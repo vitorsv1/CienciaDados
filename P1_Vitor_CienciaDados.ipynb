{
 "cells": [
  {
   "cell_type": "markdown",
   "metadata": {},
   "source": [
    "___\n",
    "# Ciência dos Dados - PROJETO 1"
   ]
  },
  {
   "cell_type": "markdown",
   "metadata": {},
   "source": [
    "## Vitor Satyro Vitturi\n",
    "___"
   ]
  },
  {
   "cell_type": "markdown",
   "metadata": {},
   "source": [
    " "
   ]
  },
  {
   "cell_type": "markdown",
   "metadata": {},
   "source": [
    "___\n",
    "## Introdução\n",
    "A partir da analise é possivel observar como a população utiliza a internet, via celular ou via microcomputador. Dentre estes, quais seria mais efetivo para marketing de uma empresa.\n"
   ]
  },
  {
   "cell_type": "markdown",
   "metadata": {},
   "source": [
    "___\n",
    "## Análise e Resultados"
   ]
  },
  {
   "cell_type": "code",
   "execution_count": 1,
   "metadata": {
    "collapsed": true
   },
   "outputs": [],
   "source": [
    "%matplotlib inline\n",
    "import pandas as pd\n",
    "import matplotlib.pyplot as plt\n",
    "import numpy as np\n",
    "import os"
   ]
  },
  {
   "cell_type": "code",
   "execution_count": 2,
   "metadata": {},
   "outputs": [
    {
     "name": "stdout",
     "output_type": "stream",
     "text": [
      "Esperamos trabalhar no diretório\n",
      "C:\\Users\\VITOR\\Dropbox\\Insper\\2017.2\\Ciencia de Dados\\Projeto1\\CienciaDados\n"
     ]
    }
   ],
   "source": [
    "print('Esperamos trabalhar no diretório')\n",
    "print(os.getcwd())"
   ]
  },
  {
   "cell_type": "code",
   "execution_count": 3,
   "metadata": {
    "collapsed": true
   },
   "outputs": [],
   "source": [
    "#Configurar as colunas que usarei\n",
    "\n",
    "dados_2015 = pd.read_csv('DOM2015.csv',sep=',')\n",
    "\n",
    "dados_2015 = pd.DataFrame(dados_2015)\n",
    "\n",
    "dados15 = dados_2015.loc[:,['UF','V4621','V02322','V02323','V02324','V02424',]]\n",
    "\n",
    "\n",
    "#dados15.head(2)"
   ]
  },
  {
   "cell_type": "code",
   "execution_count": 4,
   "metadata": {
    "collapsed": true
   },
   "outputs": [],
   "source": [
    "#Tirar NaN\n",
    "dados15 = dados15.loc[(dados15.V4621 >= 0) & (dados15.V4621 != 999999999999)]\n",
    "dados15 = dados15.loc[dados15.UF == 35]\n",
    "dados15 = dados15[pd.notnull(dados15.V4621) &\\\n",
    "                  pd.notnull(dados15.V02322) &\\\n",
    "                  pd.notnull(dados15.V02323) &\\\n",
    "                  pd.notnull(dados15.V02324) &\\\n",
    "                  pd.notnull(dados15.V02424)]\n"
   ]
  },
  {
   "cell_type": "code",
   "execution_count": 5,
   "metadata": {},
   "outputs": [
    {
     "data": {
      "text/html": [
       "<div>\n",
       "<table border=\"1\" class=\"dataframe\">\n",
       "  <thead>\n",
       "    <tr style=\"text-align: right;\">\n",
       "      <th></th>\n",
       "      <th>UF</th>\n",
       "      <th>V4621</th>\n",
       "      <th>V02322</th>\n",
       "      <th>V02323</th>\n",
       "      <th>V02324</th>\n",
       "      <th>V02424</th>\n",
       "    </tr>\n",
       "  </thead>\n",
       "  <tbody>\n",
       "    <tr>\n",
       "      <th>93132</th>\n",
       "      <td>35</td>\n",
       "      <td>4250.0</td>\n",
       "      <td>2.0</td>\n",
       "      <td>2.0</td>\n",
       "      <td>2.0</td>\n",
       "      <td>2.0</td>\n",
       "    </tr>\n",
       "    <tr>\n",
       "      <th>93133</th>\n",
       "      <td>35</td>\n",
       "      <td>1262.0</td>\n",
       "      <td>2.0</td>\n",
       "      <td>2.0</td>\n",
       "      <td>2.0</td>\n",
       "      <td>2.0</td>\n",
       "    </tr>\n",
       "    <tr>\n",
       "      <th>93135</th>\n",
       "      <td>35</td>\n",
       "      <td>3000.0</td>\n",
       "      <td>2.0</td>\n",
       "      <td>2.0</td>\n",
       "      <td>2.0</td>\n",
       "      <td>2.0</td>\n",
       "    </tr>\n",
       "  </tbody>\n",
       "</table>\n",
       "</div>"
      ],
      "text/plain": [
       "       UF   V4621  V02322  V02323  V02324  V02424\n",
       "93132  35  4250.0     2.0     2.0     2.0     2.0\n",
       "93133  35  1262.0     2.0     2.0     2.0     2.0\n",
       "93135  35  3000.0     2.0     2.0     2.0     2.0"
      ]
     },
     "execution_count": 5,
     "metadata": {},
     "output_type": "execute_result"
    }
   ],
   "source": [
    "dados15.head(3)"
   ]
  },
  {
   "cell_type": "code",
   "execution_count": 6,
   "metadata": {},
   "outputs": [
    {
     "data": {
      "text/html": [
       "<div>\n",
       "<table border=\"1\" class=\"dataframe\">\n",
       "  <thead>\n",
       "    <tr style=\"text-align: right;\">\n",
       "      <th></th>\n",
       "      <th>UF</th>\n",
       "      <th>V4621</th>\n",
       "      <th>V02322</th>\n",
       "      <th>V02323</th>\n",
       "      <th>V02324</th>\n",
       "      <th>V02424</th>\n",
       "    </tr>\n",
       "  </thead>\n",
       "  <tbody>\n",
       "    <tr>\n",
       "      <th>93132</th>\n",
       "      <td>São Paulo</td>\n",
       "      <td>4250</td>\n",
       "      <td>Sim</td>\n",
       "      <td>Sim</td>\n",
       "      <td>Sim</td>\n",
       "      <td>Sim</td>\n",
       "    </tr>\n",
       "    <tr>\n",
       "      <th>93133</th>\n",
       "      <td>São Paulo</td>\n",
       "      <td>1262</td>\n",
       "      <td>Sim</td>\n",
       "      <td>Sim</td>\n",
       "      <td>Sim</td>\n",
       "      <td>Sim</td>\n",
       "    </tr>\n",
       "    <tr>\n",
       "      <th>93135</th>\n",
       "      <td>São Paulo</td>\n",
       "      <td>3000</td>\n",
       "      <td>Sim</td>\n",
       "      <td>Sim</td>\n",
       "      <td>Sim</td>\n",
       "      <td>Sim</td>\n",
       "    </tr>\n",
       "    <tr>\n",
       "      <th>93140</th>\n",
       "      <td>São Paulo</td>\n",
       "      <td>1550</td>\n",
       "      <td>Sim</td>\n",
       "      <td>Sim</td>\n",
       "      <td>Sim</td>\n",
       "      <td>Não</td>\n",
       "    </tr>\n",
       "    <tr>\n",
       "      <th>93143</th>\n",
       "      <td>São Paulo</td>\n",
       "      <td>2300</td>\n",
       "      <td>Sim</td>\n",
       "      <td>Sim</td>\n",
       "      <td>Sim</td>\n",
       "      <td>Sim</td>\n",
       "    </tr>\n",
       "    <tr>\n",
       "      <th>93147</th>\n",
       "      <td>São Paulo</td>\n",
       "      <td>788</td>\n",
       "      <td>Sim</td>\n",
       "      <td>Sim</td>\n",
       "      <td>Sim</td>\n",
       "      <td>Sim</td>\n",
       "    </tr>\n",
       "    <tr>\n",
       "      <th>93148</th>\n",
       "      <td>São Paulo</td>\n",
       "      <td>697</td>\n",
       "      <td>Sim</td>\n",
       "      <td>Sim</td>\n",
       "      <td>Sim</td>\n",
       "      <td>Sim</td>\n",
       "    </tr>\n",
       "    <tr>\n",
       "      <th>93149</th>\n",
       "      <td>São Paulo</td>\n",
       "      <td>900</td>\n",
       "      <td>Sim</td>\n",
       "      <td>Sim</td>\n",
       "      <td>Sim</td>\n",
       "      <td>Sim</td>\n",
       "    </tr>\n",
       "    <tr>\n",
       "      <th>93150</th>\n",
       "      <td>São Paulo</td>\n",
       "      <td>1744</td>\n",
       "      <td>Sim</td>\n",
       "      <td>Sim</td>\n",
       "      <td>Não</td>\n",
       "      <td>Não</td>\n",
       "    </tr>\n",
       "    <tr>\n",
       "      <th>93156</th>\n",
       "      <td>São Paulo</td>\n",
       "      <td>1333</td>\n",
       "      <td>Sim</td>\n",
       "      <td>Não</td>\n",
       "      <td>Sim</td>\n",
       "      <td>Sim</td>\n",
       "    </tr>\n",
       "  </tbody>\n",
       "</table>\n",
       "</div>"
      ],
      "text/plain": [
       "              UF  V4621 V02322 V02323 V02324 V02424\n",
       "93132  São Paulo   4250    Sim    Sim    Sim    Sim\n",
       "93133  São Paulo   1262    Sim    Sim    Sim    Sim\n",
       "93135  São Paulo   3000    Sim    Sim    Sim    Sim\n",
       "93140  São Paulo   1550    Sim    Sim    Sim    Não\n",
       "93143  São Paulo   2300    Sim    Sim    Sim    Sim\n",
       "93147  São Paulo    788    Sim    Sim    Sim    Sim\n",
       "93148  São Paulo    697    Sim    Sim    Sim    Sim\n",
       "93149  São Paulo    900    Sim    Sim    Sim    Sim\n",
       "93150  São Paulo   1744    Sim    Sim    Não    Não\n",
       "93156  São Paulo   1333    Sim    Não    Sim    Sim"
      ]
     },
     "execution_count": 6,
     "metadata": {},
     "output_type": "execute_result"
    }
   ],
   "source": [
    "dados15.UF = dados15.UF.astype('category')\n",
    "dados15.V4621 = dados15.V4621.astype('int')\n",
    "dados15.V02322 = dados15.V02322.astype('category')\n",
    "dados15.V02323 = dados15.V02323.astype('category')\n",
    "dados15.V02324 = dados15.V02324.astype('category')\n",
    "dados15.V02424 = dados15.V02424.astype('category')\n",
    "\n",
    "dados15.UF.cat.categories = {'São Paulo'}\n",
    "dados15.V02322.cat.categories = {'Sim'}\n",
    "dados15.V02323.cat.categories = {'Sim','Não'}\n",
    "dados15.V02324.cat.categories = {'Sim','Não'}\n",
    "dados15.V02424.cat.categories = {'Sim','Não'}\n",
    "dados15.head(10)\n",
    "#dados15.V02424.cat.categories"
   ]
  },
  {
   "cell_type": "code",
   "execution_count": 7,
   "metadata": {
    "collapsed": true
   },
   "outputs": [],
   "source": [
    "dados15 = dados15.rename(columns = {\"V4621\":\"Renda Salarial(R$)\",\"V02322\":\"Acesso a internet em Domicílio\", \"V02323\":\"Acesso a internet em Microcomputador\", \"V02324\":\"Acesso a internet em Celular\",\"V02424\":\"Acesso a internet em 3G 4G\"})\n",
    "renda_15 = dados15[\"Renda Salarial(R$)\"]"
   ]
  },
  {
   "cell_type": "code",
   "execution_count": 8,
   "metadata": {
    "collapsed": true
   },
   "outputs": [],
   "source": [
    "#Variaveis escolhidas de acordo com o salário minimo e a distribuição normal de renda\n",
    "\n",
    "alta = 3000\n",
    "media = 1500\n",
    "baixa = 500\n",
    "\n",
    "dados15.loc[dados15[\"Renda Salarial(R$)\"] <= baixa, \"Classe\"] = \"baixa\"\n",
    "dados15.loc[(dados15[\"Renda Salarial(R$)\"] > baixa) & (dados15[\"Renda Salarial(R$)\"] <= media), \"Classe\"] = \"média_baixa\"\n",
    "dados15.loc[(dados15[\"Renda Salarial(R$)\"] > media) & (dados15[\"Renda Salarial(R$)\"] <= alta), \"Classe\"] = \"média\"\n",
    "dados15.loc[dados15[\"Renda Salarial(R$)\"] > alta, \"Classe\"] = \"alta\"\n",
    "\n",
    "dados15[\"Classe\"] = dados15[\"Classe\"].astype('category')"
   ]
  },
  {
   "cell_type": "code",
   "execution_count": 9,
   "metadata": {
    "collapsed": true
   },
   "outputs": [],
   "source": [
    "import math as m\n",
    "raiz = m.sqrt(len(renda_15))\n",
    "raiz = int(raiz)"
   ]
  },
  {
   "cell_type": "code",
   "execution_count": 13,
   "metadata": {
    "scrolled": true
   },
   "outputs": [
    {
     "data": {
      "text/plain": [
       "<matplotlib.text.Text at 0x24b8de8bfd0>"
      ]
     },
     "execution_count": 13,
     "metadata": {},
     "output_type": "execute_result"
    },
    {
     "data": {
      "image/png": "[encoded data removed]",
      "text/plain": [
       "<matplotlib.figure.Figure at 0x24b8dab0cf8>"
      ]
     },
     "metadata": {},
     "output_type": "display_data"
    }
   ],
   "source": [
    "#Prova de uma distribuição do tipo normal na renda devido ao salario minimo\n",
    "\n",
    "ganham_menos = renda_15[renda_15 < 50000]\n",
    "ganham_menos.plot(kind='hist', bins = range(10,5000,200), figsize=(10,4), color=(\"Purple\"))\n",
    "plt.title('Renda')"
   ]
  },
  {
   "cell_type": "code",
   "execution_count": 11,
   "metadata": {},
   "outputs": [
    {
     "data": {
      "text/plain": [
       "<matplotlib.text.Text at 0x24b8d61ab70>"
      ]
     },
     "execution_count": 11,
     "metadata": {},
     "output_type": "execute_result"
    },
    {
     "data": {
      "image/png": "[encoded data removed]",
      "text/plain": [
       "<matplotlib.figure.Figure at 0x24b8d4b0d68>"
      ]
     },
     "metadata": {},
     "output_type": "display_data"
    }
   ],
   "source": [
    "micro = dados15[\"Acesso a internet em Microcomputador\"].value_counts(True)*100\n",
    "micro.plot(kind='pie', autopct=\"%.2f\", colors=('red','blue'))\n",
    "plt.title(\"Internet em Microcomputadores em SP\")\n",
    "plt.ylabel('Frequencia(%)')\n"
   ]
  },
  {
   "cell_type": "code",
   "execution_count": 14,
   "metadata": {},
   "outputs": [
    {
     "data": {
      "text/plain": [
       "<matplotlib.text.Text at 0x24b8e18cf98>"
      ]
     },
     "execution_count": 14,
     "metadata": {},
     "output_type": "execute_result"
    },
    {
     "data": {
      "image/png": "[encoded data removed]",
      "text/plain": [
       "<matplotlib.figure.Figure at 0x24b8e06e208>"
      ]
     },
     "metadata": {},
     "output_type": "display_data"
    }
   ],
   "source": [
    "celular = dados15[\"Acesso a internet em Celular\"].value_counts(True)*100\n",
    "celular.plot(kind='pie', autopct=\"%.2f\",legend=False)\n",
    "plt.title(\"Internet no Celular\")\n",
    "plt.ylabel(\"Frequencia(%)\")"
   ]
  },
  {
   "cell_type": "code",
   "execution_count": 15,
   "metadata": {},
   "outputs": [
    {
     "data": {
      "text/plain": [
       "<matplotlib.text.Text at 0x24b8e250400>"
      ]
     },
     "execution_count": 15,
     "metadata": {},
     "output_type": "execute_result"
    },
    {
     "data": {
      "image/png": "[encoded data removed]",
      "text/plain": [
       "<matplotlib.figure.Figure at 0x24b8e2429b0>"
      ]
     },
     "metadata": {},
     "output_type": "display_data"
    }
   ],
   "source": [
    "#Renda menor que 30000 dividida em 4 partes comparada com uso de internet via celular\n",
    "cross_Class_Cel = pd.crosstab(dados15[\"Classe\"], dados15[\"Acesso a internet em Celular\"])\n",
    "cross_Class_Cel.plot(kind='bar')\n",
    "plt.xticks(np.arange(4),('baixa','média_baixa','média','alta'))\n",
    "plt.xlabel(\"Classe Social por Renda\")\n",
    "plt.ylabel(\"Numero de acesso a internet via celular\")\n",
    "plt.title(\"Uso de celular para Internet x Classe Social em 2015\")"
   ]
  },
  {
   "cell_type": "code",
   "execution_count": 16,
   "metadata": {},
   "outputs": [
    {
     "data": {
      "text/plain": [
       "<matplotlib.text.Text at 0x24b8e4487f0>"
      ]
     },
     "execution_count": 16,
     "metadata": {},
     "output_type": "execute_result"
    },
    {
     "data": {
      "image/png": "[encoded data removed]",
      "text/plain": [
       "<matplotlib.figure.Figure at 0x24b8e15acc0>"
      ]
     },
     "metadata": {},
     "output_type": "display_data"
    }
   ],
   "source": [
    "#Renda menor que 30000 dividida em 4 partes comparada com uso de internet via microcomputador\n",
    "cross_Class_Cel = pd.crosstab(dados15[\"Classe\"], dados15[\"Acesso a internet em Microcomputador\"])\n",
    "cross_Class_Cel.plot(kind='bar')\n",
    "plt.xticks(np.arange(4),('baixa','média_baixa','média','alta'))\n",
    "plt.ylabel(\"Numero de acesso a internet via microcomputador\")\n",
    "plt.xlabel(\"Classe Social por Renda\")\n",
    "plt.title(\"Uso de microcomputador para Internet x Classe Social\")"
   ]
  },
  {
   "cell_type": "code",
   "execution_count": null,
   "metadata": {
    "collapsed": true
   },
   "outputs": [],
   "source": []
  },
  {
   "cell_type": "code",
   "execution_count": null,
   "metadata": {
    "collapsed": true
   },
   "outputs": [],
   "source": []
  },
  {
   "cell_type": "code",
   "execution_count": null,
   "metadata": {
    "collapsed": true
   },
   "outputs": [],
   "source": []
  },
  {
   "cell_type": "code",
   "execution_count": null,
   "metadata": {
    "collapsed": true
   },
   "outputs": [],
   "source": []
  },
  {
   "cell_type": "code",
   "execution_count": null,
   "metadata": {
    "collapsed": true
   },
   "outputs": [],
   "source": []
  },
  {
   "cell_type": "code",
   "execution_count": null,
   "metadata": {
    "collapsed": true
   },
   "outputs": [],
   "source": [
    "#dados15.to_csv('dados_2015_filtrado.csv')\n",
    "#dados15_SP.to_csv('dados_2015_filtrado_SP.csv')"
   ]
  },
  {
   "cell_type": "markdown",
   "metadata": {},
   "source": [
    "___\n",
    "## Conclusão "
   ]
  },
  {
   "cell_type": "markdown",
   "metadata": {
    "collapsed": true
   },
   "source": [
    "Descreva aqui suas conclusões!"
   ]
  },
  {
   "cell_type": "code",
   "execution_count": null,
   "metadata": {
    "collapsed": true
   },
   "outputs": [],
   "source": []
  }
 ],
 "metadata": {
  "anaconda-cloud": {},
  "kernelspec": {
   "display_name": "Python 3",
   "language": "python",
   "name": "python3"
  },
  "language_info": {
   "codemirror_mode": {
    "name": "ipython",
    "version": 3
   },
   "file_extension": ".py",
   "mimetype": "text/x-python",
   "name": "python",
   "nbconvert_exporter": "python",
   "pygments_lexer": "ipython3",
   "version": "3.6.0"
  }
 },
 "nbformat": 4,
 "nbformat_minor": 1
}
