{
 "cells": [
  {
   "cell_type": "markdown",
   "metadata": {},
   "source": [
    "___\n",
    "# Ciência dos Dados - PROJETO 1"
   ]
  },
  {
   "cell_type": "markdown",
   "metadata": {},
   "source": [
    "## Vitor Satyro Vitturi\n",
    "___"
   ]
  },
  {
   "cell_type": "markdown",
   "metadata": {},
   "source": [
    " "
   ]
  },
  {
   "cell_type": "markdown",
   "metadata": {},
   "source": [
    "___\n",
    "## Introdução\n",
    "A partir da analise é possivel observar como a população utiliza a internet, via celular ou via microcomputador. Dentre estes, quais seria mais efetivo para marketing de uma empresa.\n"
   ]
  },
  {
   "cell_type": "markdown",
   "metadata": {},
   "source": [
    "___\n",
    "## Análise e Resultados"
   ]
  },
  {
   "cell_type": "code",
   "execution_count": 1,
   "metadata": {
    "collapsed": true
   },
   "outputs": [],
   "source": [
    "%matplotlib inline\n",
    "import pandas as pd\n",
    "import matplotlib.pyplot as plt\n",
    "import numpy as np\n",
    "import os"
   ]
  },
  {
   "cell_type": "code",
   "execution_count": 2,
   "metadata": {},
   "outputs": [
    {
     "name": "stdout",
     "output_type": "stream",
     "text": [
      "Esperamos trabalhar no diretório\n",
      "C:\\Users\\vitor\\Dropbox\\Insper\\2017.2\\Ciencia de Dados\\Projeto1\\CienciaDados\n"
     ]
    }
   ],
   "source": [
    "print('Esperamos trabalhar no diretório')\n",
    "print(os.getcwd())"
   ]
  },
  {
   "cell_type": "code",
   "execution_count": 3,
   "metadata": {},
   "outputs": [
    {
     "data": {
      "text/html": [
       "<div>\n",
       "<style>\n",
       "    .dataframe thead tr:only-child th {\n",
       "        text-align: right;\n",
       "    }\n",
       "\n",
       "    .dataframe thead th {\n",
       "        text-align: left;\n",
       "    }\n",
       "\n",
       "    .dataframe tbody tr th {\n",
       "        vertical-align: top;\n",
       "    }\n",
       "</style>\n",
       "<table border=\"1\" class=\"dataframe\">\n",
       "  <thead>\n",
       "    <tr style=\"text-align: right;\">\n",
       "      <th></th>\n",
       "      <th>UF</th>\n",
       "      <th>V4621</th>\n",
       "      <th>V02322</th>\n",
       "      <th>V02323</th>\n",
       "      <th>V02324</th>\n",
       "      <th>V02424</th>\n",
       "    </tr>\n",
       "  </thead>\n",
       "  <tbody>\n",
       "    <tr>\n",
       "      <th>0</th>\n",
       "      <td>11</td>\n",
       "      <td>800.0</td>\n",
       "      <td>4.0</td>\n",
       "      <td>NaN</td>\n",
       "      <td>NaN</td>\n",
       "      <td>NaN</td>\n",
       "    </tr>\n",
       "    <tr>\n",
       "      <th>1</th>\n",
       "      <td>11</td>\n",
       "      <td>NaN</td>\n",
       "      <td>NaN</td>\n",
       "      <td>NaN</td>\n",
       "      <td>NaN</td>\n",
       "      <td>NaN</td>\n",
       "    </tr>\n",
       "    <tr>\n",
       "      <th>2</th>\n",
       "      <td>11</td>\n",
       "      <td>1150.0</td>\n",
       "      <td>2.0</td>\n",
       "      <td>2.0</td>\n",
       "      <td>4.0</td>\n",
       "      <td>2.0</td>\n",
       "    </tr>\n",
       "    <tr>\n",
       "      <th>3</th>\n",
       "      <td>11</td>\n",
       "      <td>793.0</td>\n",
       "      <td>2.0</td>\n",
       "      <td>2.0</td>\n",
       "      <td>2.0</td>\n",
       "      <td>2.0</td>\n",
       "    </tr>\n",
       "    <tr>\n",
       "      <th>4</th>\n",
       "      <td>11</td>\n",
       "      <td>2900.0</td>\n",
       "      <td>4.0</td>\n",
       "      <td>NaN</td>\n",
       "      <td>NaN</td>\n",
       "      <td>NaN</td>\n",
       "    </tr>\n",
       "  </tbody>\n",
       "</table>\n",
       "</div>"
      ],
      "text/plain": [
       "   UF   V4621  V02322  V02323  V02324  V02424\n",
       "0  11   800.0     4.0     NaN     NaN     NaN\n",
       "1  11     NaN     NaN     NaN     NaN     NaN\n",
       "2  11  1150.0     2.0     2.0     4.0     2.0\n",
       "3  11   793.0     2.0     2.0     2.0     2.0\n",
       "4  11  2900.0     4.0     NaN     NaN     NaN"
      ]
     },
     "execution_count": 3,
     "metadata": {},
     "output_type": "execute_result"
    }
   ],
   "source": [
    "#Se usar o arquivo descompactado\n",
    "#Configurar as colunas que usarei\n",
    "dados_2015 = pd.read_csv('DOM2015.csv',sep=',')\n",
    "\n",
    "dados_2015 = pd.DataFrame(dados_2015)\n",
    "\n",
    "dados15 = dados_2015.loc[:,['UF','V4621','V02322','V02323','V02324','V02424',]]\n",
    "\n",
    "\n",
    "dados15.head()"
   ]
  },
  {
   "cell_type": "code",
   "execution_count": 4,
   "metadata": {},
   "outputs": [],
   "source": [
    "#Tirar NaN\n",
    "dados15 = dados15.loc[(dados15.V4621 >= 0) & (dados15.V4621 != 999999999999)]\n",
    "dados15 = dados15[pd.notnull(dados15.V4621) &\\\n",
    "                  pd.notnull(dados15.V02322) &\\\n",
    "                  pd.notnull(dados15.V02323) &\\\n",
    "                  pd.notnull(dados15.V02324) &\\\n",
    "                  pd.notnull(dados15.V02424)]\n"
   ]
  },
  {
   "cell_type": "code",
   "execution_count": 5,
   "metadata": {
    "collapsed": true
   },
   "outputs": [],
   "source": [
    "#Analisando só SP\n",
    "dados15_SP = dados15[dados15.UF == 35]"
   ]
  },
  {
   "cell_type": "code",
   "execution_count": 6,
   "metadata": {},
   "outputs": [],
   "source": [
    "dados15.UF = dados15.UF.astype('category')\n",
    "dados15.UF = dados15.UF.astype('category')\n",
    "dados15.V4621 = dados15.V4621.astype('int')\n",
    "dados15.V02322 = dados15.V02322.astype('category')\n",
    "dados15.V02323 = dados15.V02323.astype('category')\n",
    "dados15.V02324 = dados15.V02324.astype('category')\n",
    "dados15.V02424 = dados15.V02424.astype('category')\n",
    "\n",
    "dados15.UF.cat.categories = {'Rondônia','Acre','Amazonas','Roraima',\\\n",
    "                             'Pará','Amapá','Tocantins','Maranhão',\\\n",
    "                             'Piauí','Ceará','Rio Grande do Norte',\\\n",
    "                             'Paraíba','Pernambuco','Alagoas','Sergipe',\\\n",
    "                             'Bahia','Minas Gerais','Espírito Santo',\\\n",
    "                             'Rio de Janeiro','São Paulo','Paraná',\\\n",
    "                             'Santa Catarina','Rio Grande do Sul',\\\n",
    "                             'Mato Grosso do Sul','Mato Grosso','Goiás',\\\n",
    "                             'Distrito Federal'}\n",
    "dados15.V02322.cat.categories = {'Sim'}\n",
    "dados15.V02323.cat.categories = {'Sim','Não'}\n",
    "dados15.V02324.cat.categories = {'Sim','Não'}\n",
    "dados15.V02424.cat.categories = {'Sim','Não'}"
   ]
  },
  {
   "cell_type": "code",
   "execution_count": null,
   "metadata": {
    "collapsed": true
   },
   "outputs": [],
   "source": [
    "alta = 3000\n",
    "media = 1500\n",
    "baixa = 500\n",
    "\n",
    "dados15.loc[dados15[\"Renda Salarial(R$)\"] < baixa, \"classe\"] = \"baixa\"\n",
    "dados15.loc[dados15[\"Renda Salarial(R$)\"] > baixa, \"classe\"] = \"média baixa\""
   ]
  },
  {
   "cell_type": "code",
   "execution_count": 7,
   "metadata": {},
   "outputs": [],
   "source": [
    "dados15 = dados15.rename(columns = {\"V4621\":\"Renda Salarial(R$)\",\"V02322\":\"Acesso a internet em Domicílio\", \"V02323\":\"Acesso a internet em Microcomputador\", \"V02324\":\"Acesso a internet em Celular\",\"V02424\":\"Acesso a internet em 3G 4G\"})\n",
    "renda_15 = dados15[\"Renda Salarial(R$)\"]"
   ]
  },
  {
   "cell_type": "code",
   "execution_count": 8,
   "metadata": {
    "collapsed": true
   },
   "outputs": [],
   "source": [
    "import math as m\n",
    "raiz = m.sqrt(len(renda_15))\n",
    "raiz = int(raiz)"
   ]
  },
  {
   "cell_type": "code",
   "execution_count": 17,
   "metadata": {
    "scrolled": true
   },
   "outputs": [
    {
     "data": {
      "text/plain": [
       "<matplotlib.text.Text at 0x1fa98ce6550>"
      ]
     },
     "execution_count": 17,
     "metadata": {},
     "output_type": "execute_result"
    },
    {
     "data": {
      "image/png": "[encoded data removed]",
      "text/plain": [
       "<matplotlib.figure.Figure at 0x1fa97fe0ef0>"
      ]
     },
     "metadata": {},
     "output_type": "display_data"
    }
   ],
   "source": [
    "ganham_menos = renda_15[renda_15 < 50000]\n",
    "ganham_menos.plot(kind='hist', bins = range(10,5000,25), figsize=(12,6), color=(\"Purple\"))\n",
    "plt.title('Renda')"
   ]
  },
  {
   "cell_type": "code",
   "execution_count": 10,
   "metadata": {},
   "outputs": [
    {
     "data": {
      "text/plain": [
       "<matplotlib.text.Text at 0x1fa9827cdd8>"
      ]
     },
     "execution_count": 10,
     "metadata": {},
     "output_type": "execute_result"
    },
    {
     "data": {
      "image/png": "[encoded data removed]",
      "text/plain": [
       "<matplotlib.figure.Figure at 0x1fa9804cc18>"
      ]
     },
     "metadata": {},
     "output_type": "display_data"
    }
   ],
   "source": [
    "micro = dados15[\"Acesso a internet em Microcomputador\"].value_counts(True)*100\n",
    "micro.plot(kind='pie', autopct=\"%.2f\", colors=('red','blue'))\n",
    "plt.title(\"Internet em Microcomputadores\")\n",
    "plt.ylabel('Frequencia(%)')\n"
   ]
  },
  {
   "cell_type": "code",
   "execution_count": 11,
   "metadata": {},
   "outputs": [
    {
     "data": {
      "text/plain": [
       "<matplotlib.text.Text at 0x1fa983eef60>"
      ]
     },
     "execution_count": 11,
     "metadata": {},
     "output_type": "execute_result"
    },
    {
     "data": {
      "image/png": "[encoded data removed]",
      "text/plain": [
       "<matplotlib.figure.Figure at 0x1fa9855af60>"
      ]
     },
     "metadata": {},
     "output_type": "display_data"
    }
   ],
   "source": [
    "celular = dados15[\"Acesso a internet em Celular\"].value_counts(True)*100\n",
    "celular.plot(kind='pie', autopct=\"%.2f\",legend=False)\n",
    "plt.title(\"Internet no Celular\")\n",
    "plt.ylabel(\"Frequencia(%)\")"
   ]
  },
  {
   "cell_type": "code",
   "execution_count": 15,
   "metadata": {},
   "outputs": [
    {
     "name": "stderr",
     "output_type": "stream",
     "text": [
      "C:\\Users\\vitor\\Anaconda3\\lib\\site-packages\\pandas\\core\\indexes\\category.py:138: RuntimeWarning: Values and categories have different dtypes. Did you mean to use\n",
      "'Categorical.from_codes(codes, categories)'?\n",
      "  data = Categorical(data, categories=categories, ordered=ordered)\n",
      "C:\\Users\\vitor\\Anaconda3\\lib\\site-packages\\pandas\\core\\indexes\\category.py:138: RuntimeWarning: None of the categories were found in values. Did you mean to use\n",
      "'Categorical.from_codes(codes, categories)'?\n",
      "  data = Categorical(data, categories=categories, ordered=ordered)\n",
      "C:\\Users\\vitor\\Anaconda3\\lib\\site-packages\\pandas\\core\\indexes\\api.py:77: RuntimeWarning: '<' not supported between instances of 'str' and 'int', sort order is undefined for incomparable objects\n",
      "  result = result.union(other)\n"
     ]
    },
    {
     "data": {
      "text/html": [
       "<div>\n",
       "<style>\n",
       "    .dataframe thead tr:only-child th {\n",
       "        text-align: right;\n",
       "    }\n",
       "\n",
       "    .dataframe thead th {\n",
       "        text-align: left;\n",
       "    }\n",
       "\n",
       "    .dataframe tbody tr th {\n",
       "        vertical-align: top;\n",
       "    }\n",
       "</style>\n",
       "<table border=\"1\" class=\"dataframe\">\n",
       "  <thead>\n",
       "    <tr style=\"text-align: right;\">\n",
       "      <th></th>\n",
       "    </tr>\n",
       "  </thead>\n",
       "  <tbody>\n",
       "  </tbody>\n",
       "</table>\n",
       "</div>"
      ],
      "text/plain": [
       "Empty DataFrame\n",
       "Columns: []\n",
       "Index: []"
      ]
     },
     "execution_count": 15,
     "metadata": {},
     "output_type": "execute_result"
    }
   ],
   "source": [
    " #Renda menor que 30000 dividida em 3 partes comparada com uso de internet via celular\n"
   ]
  },
  {
   "cell_type": "code",
   "execution_count": null,
   "metadata": {},
   "outputs": [],
   "source": [
    "#Renda menor que 30000 dividida em 3 partes comparada com uso de internet via microcomputador"
   ]
  },
  {
   "cell_type": "code",
   "execution_count": null,
   "metadata": {},
   "outputs": [],
   "source": [
    "dados15.to_csv('dados_2015_filtrado.csv')\n",
    "#dados15_SP.to_csv('dados_2015_filtrado_SP.csv')"
   ]
  },
  {
   "cell_type": "markdown",
   "metadata": {},
   "source": [
    "___\n",
    "## Conclusão "
   ]
  },
  {
   "cell_type": "markdown",
   "metadata": {
    "collapsed": true
   },
   "source": [
    "Descreva aqui suas conclusões!"
   ]
  },
  {
   "cell_type": "code",
   "execution_count": null,
   "metadata": {
    "collapsed": true
   },
   "outputs": [],
   "source": []
  }
 ],
 "metadata": {
  "anaconda-cloud": {},
  "kernelspec": {
   "display_name": "Python 3",
   "language": "python",
   "name": "python3"
  },
  "language_info": {
   "codemirror_mode": {
    "name": "ipython",
    "version": 3
   },
   "file_extension": ".py",
   "mimetype": "text/x-python",
   "name": "python",
   "nbconvert_exporter": "python",
   "pygments_lexer": "ipython3",
   "version": "3.6.1"
  }
 },
 "nbformat": 4,
 "nbformat_minor": 1
}
