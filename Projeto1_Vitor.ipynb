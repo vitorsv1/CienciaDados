{
 "cells": [
  {
   "cell_type": "markdown",
   "metadata": {},
   "source": [
    "___\n",
    "# Ciência dos Dados - PROJETO 1"
   ]
  },
  {
   "cell_type": "markdown",
   "metadata": {},
   "source": [
    "## Vitor Satyro Vitturi\n",
    "___"
   ]
  },
  {
   "cell_type": "markdown",
   "metadata": {},
   "source": [
    "## TÍTULO DO SEU PROJETO"
   ]
  },
  {
   "cell_type": "markdown",
   "metadata": {},
   "source": [
    "___\n",
    "## Introdução\n",
    "\n",
    "Descreva aqui o que pretende analisar!\n",
    "\n",
    "Capriche no português!! \n",
    "Se quiser pode utilizar pesquisas semelhantes publicadas em sites confiáveis!!\n"
   ]
  },
  {
   "cell_type": "markdown",
   "metadata": {},
   "source": [
    "___\n",
    "## Análise e Resultados"
   ]
  },
  {
   "cell_type": "code",
   "execution_count": 1,
   "metadata": {
    "collapsed": true
   },
   "outputs": [],
   "source": [
    "%matplotlib inline\n",
    "import pandas as pd\n",
    "import matplotlib.pyplot as plt\n",
    "import numpy as np\n",
    "import os"
   ]
  },
  {
   "cell_type": "code",
   "execution_count": 2,
   "metadata": {},
   "outputs": [
    {
     "name": "stdout",
     "output_type": "stream",
     "text": [
      "Esperamos trabalhar no diretório\n",
      "C:\\Users\\vitor\\Dropbox\\Insper\\2017.2\\Ciencia de Dados\\Projeto1\\CienciaDados\n"
     ]
    }
   ],
   "source": [
    "print('Esperamos trabalhar no diretório')\n",
    "print(os.getcwd())"
   ]
  },
  {
   "cell_type": "code",
   "execution_count": 9,
   "metadata": {},
   "outputs": [
    {
     "name": "stderr",
     "output_type": "stream",
     "text": [
      "C:\\Users\\vitor\\Anaconda3\\lib\\site-packages\\pandas\\core\\indexing.py:517: SettingWithCopyWarning: \n",
      "A value is trying to be set on a copy of a slice from a DataFrame.\n",
      "Try using .loc[row_indexer,col_indexer] = value instead\n",
      "\n",
      "See the caveats in the documentation: http://pandas.pydata.org/pandas-docs/stable/indexing.html#indexing-view-versus-copy\n",
      "  self.obj[item] = s\n",
      "C:\\Users\\vitor\\Anaconda3\\lib\\site-packages\\pandas\\core\\generic.py:3110: SettingWithCopyWarning: \n",
      "A value is trying to be set on a copy of a slice from a DataFrame.\n",
      "Try using .loc[row_indexer,col_indexer] = value instead\n",
      "\n",
      "See the caveats in the documentation: http://pandas.pydata.org/pandas-docs/stable/indexing.html#indexing-view-versus-copy\n",
      "  self[name] = value\n"
     ]
    }
   ],
   "source": [
    "#Se usar o arquivo descompactado\n",
    "dados_2015 = pd.read_csv('DOM2015.csv',sep=',')\n",
    "\n",
    "dados_2015 = pd.DataFrame(dados_2015)\n",
    "\n",
    "dados_2015_lido = dados_2015.loc[:,['UF','V02322','V0210', 'V4105', 'V0232']]\n",
    "\n",
    "dados_2015_sem_nulo = dados_2015_lido.loc[pd.notnull(dados_2015_lido.UF) & \\\n",
    "                                          pd.notnull(dados_2015_lido.V0232) & \\\n",
    "                                          pd.notnull(dados_2015_lido.V0210) & \\\n",
    "                                          pd.notnull(dados_2015_lido.V4105) & \\\n",
    "                                          pd.notnull(dados_2015_lido.V02322)]\n",
    "\n",
    "dados_15 = dados_2015_sem_nulo.loc[(dados_2015_sem_nulo.UF == 35) & \\\n",
    "                                   (dados_2015_sem_nulo.V02322 == 2) & \\\n",
    "                                   (dados_2015_sem_nulo.V0210 == 2) & \\\n",
    "                                   (dados_2015_sem_nulo.V4105 == 1)]\n",
    "\n",
    "dados_15.loc[:,\"UF\"] = dados_15.UF.astype('category')\n",
    "dados_15.V0232 = dados_15.V0232.astype('category')\n",
    "dados_15.V0210 = dados_15.V0210.astype('category')\n",
    "dados_15.V4105 = dados_15.V4105.astype('category')\n",
    "dados_15.V02322 = dados_15.V02322.astype('category')\n",
    "\n",
    "dados_15 = dados_15.rename(columns = {'V02322':'Acesso Internet', 'V0210':'Terreno Próprio', 'V4105':'Região de Moradia', 'V0232':'Computador Internet'})\n",
    "\n",
    "dados_15.UF.cat.categories = {'São Paulo'}\n",
    "dados_15.to_csv('dados_2015_filtrado.csv')"
   ]
  },
  {
   "cell_type": "code",
   "execution_count": null,
   "metadata": {
    "collapsed": true
   },
   "outputs": [],
   "source": [
    "dados_2014 = pd.DataFrame(dados_2014)\n",
    "dados_2014_lido = dados_2014.loc[:,['UF','V02322','V0210', 'V4105', 'V0232']]\n",
    "dados_2014_sem_nulo = dados_2014_lido[pd.notnull(dados_2014_lido.UF) & \\\n",
    "                                      pd.notnull(dados_2014_lido.V0232) & \\\n",
    "                                      pd.notnull(dados_2014_lido.V0210) & \\\n",
    "                                      pd.notnull(dados_2014_lido.V4105) & \\\n",
    "                                      pd.notnull(dados_2014_lido.V02322)]\n",
    "dados_2014_sem_nulo.to_csv('dados_2014_filtrado.csv')"
   ]
  },
  {
   "cell_type": "code",
   "execution_count": null,
   "metadata": {},
   "outputs": [],
   "source": [
    "dados_2013 = pd.read_csv('DOM2013.csv',sep=',')\n",
    "dados_2013 = pd.DataFrame(dados_2013)\n",
    "dados_2013_lido = dados_2015.loc[:,['UF','V02322','V0210', 'V4105', 'V0232']]\n",
    "dados_2013_sem_nulo = dados_2015_lido[pd.notnull(dados_2013_lido.UF) & \\\n",
    "                                      pd.notnull(dados_2013_lido.V0232) & \\\n",
    "                                      pd.notnull(dados_2013_lido.V0210) & \\\n",
    "                                      pd.notnull(dados_2013_lido.V4105) & \\\n",
    "                                      pd.notnull(dados_2013_lido.V02322)]\n",
    "dados_2013_sem_nulo.to_csv('dados_2013_filtrado.csv')"
   ]
  },
  {
   "cell_type": "markdown",
   "metadata": {},
   "source": [
    "___\n",
    "## Conclusão "
   ]
  },
  {
   "cell_type": "markdown",
   "metadata": {
    "collapsed": true
   },
   "source": [
    "Descreva aqui suas conclusões!"
   ]
  },
  {
   "cell_type": "code",
   "execution_count": null,
   "metadata": {
    "collapsed": true
   },
   "outputs": [],
   "source": []
  }
 ],
 "metadata": {
  "anaconda-cloud": {},
  "kernelspec": {
   "display_name": "Python 3",
   "language": "python",
   "name": "python3"
  },
  "language_info": {
   "codemirror_mode": {
    "name": "ipython",
    "version": 3
   },
   "file_extension": ".py",
   "mimetype": "text/x-python",
   "name": "python",
   "nbconvert_exporter": "python",
   "pygments_lexer": "ipython3",
   "version": "3.6.1"
  }
 },
 "nbformat": 4,
 "nbformat_minor": 1
}
