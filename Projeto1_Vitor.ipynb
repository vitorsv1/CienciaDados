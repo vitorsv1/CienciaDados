{
 "cells": [
  {
   "cell_type": "markdown",
   "metadata": {},
   "source": [
    "___\n",
    "# Ciência dos Dados - PROJETO 1"
   ]
  },
  {
   "cell_type": "markdown",
   "metadata": {},
   "source": [
    "## Vitor Satyro Vitturi\n",
    "___"
   ]
  },
  {
   "cell_type": "markdown",
   "metadata": {},
   "source": [
    "## Uso da Internet para casa própria ou não"
   ]
  },
  {
   "cell_type": "markdown",
   "metadata": {},
   "source": [
    "___\n",
    "## Introdução\n",
    "\n",
    "O fato de um pessoa possuir terreno proprio ou não, influencia no seu uso da internet pelo computador."
   ]
  },
  {
   "cell_type": "markdown",
   "metadata": {},
   "source": [
    "___\n",
    "## Análise e Resultados"
   ]
  },
  {
   "cell_type": "code",
   "execution_count": 1,
   "metadata": {
    "collapsed": true
   },
   "outputs": [],
   "source": [
    "%matplotlib inline\n",
    "import pandas as pd\n",
    "import matplotlib.pyplot as plt\n",
    "import numpy as np\n",
    "import os"
   ]
  },
  {
   "cell_type": "code",
   "execution_count": 2,
   "metadata": {},
   "outputs": [
    {
     "name": "stdout",
     "output_type": "stream",
     "text": [
      "Esperamos trabalhar no diretório\n",
      "C:\\Users\\vitor\\Dropbox\\Insper\\2017.2\\Ciencia de Dados\\Projeto1\\CienciaDados\n"
     ]
    }
   ],
   "source": [
    "print('Esperamos trabalhar no diretório')\n",
    "print(os.getcwd())"
   ]
  },
  {
   "cell_type": "code",
   "execution_count": 8,
   "metadata": {},
   "outputs": [
    {
     "name": "stderr",
     "output_type": "stream",
     "text": [
      "C:\\Users\\vitor\\Anaconda3\\lib\\site-packages\\pandas\\core\\indexing.py:517: SettingWithCopyWarning: \n",
      "A value is trying to be set on a copy of a slice from a DataFrame.\n",
      "Try using .loc[row_indexer,col_indexer] = value instead\n",
      "\n",
      "See the caveats in the documentation: http://pandas.pydata.org/pandas-docs/stable/indexing.html#indexing-view-versus-copy\n",
      "  self.obj[item] = s\n",
      "C:\\Users\\vitor\\Anaconda3\\lib\\site-packages\\pandas\\core\\generic.py:3110: SettingWithCopyWarning: \n",
      "A value is trying to be set on a copy of a slice from a DataFrame.\n",
      "Try using .loc[row_indexer,col_indexer] = value instead\n",
      "\n",
      "See the caveats in the documentation: http://pandas.pydata.org/pandas-docs/stable/indexing.html#indexing-view-versus-copy\n",
      "  self[name] = value\n"
     ]
    },
    {
     "ename": "ValueError",
     "evalue": "new categories need to have the same number of items than the old categories!",
     "output_type": "error",
     "traceback": [
      "\u001b[1;31m---------------------------------------------------------------------------\u001b[0m",
      "\u001b[1;31mValueError\u001b[0m                                Traceback (most recent call last)",
      "\u001b[1;32m<ipython-input-8-20340e3a3980>\u001b[0m in \u001b[0;36m<module>\u001b[1;34m()\u001b[0m\n\u001b[0;32m     18\u001b[0m \u001b[0mdados_15\u001b[0m\u001b[1;33m.\u001b[0m\u001b[0mUF\u001b[0m\u001b[1;33m.\u001b[0m\u001b[0mcat\u001b[0m\u001b[1;33m.\u001b[0m\u001b[0mcategories\u001b[0m \u001b[1;33m=\u001b[0m \u001b[1;33m{\u001b[0m\u001b[1;34m'São Paulo'\u001b[0m\u001b[1;33m}\u001b[0m\u001b[1;33m\u001b[0m\u001b[0m\n\u001b[0;32m     19\u001b[0m \u001b[0mdados_15\u001b[0m\u001b[1;33m.\u001b[0m\u001b[0mV0232\u001b[0m\u001b[1;33m.\u001b[0m\u001b[0mcat\u001b[0m\u001b[1;33m.\u001b[0m\u001b[0mcategories\u001b[0m \u001b[1;33m=\u001b[0m \u001b[1;33m{\u001b[0m\u001b[1;34m'Sim'\u001b[0m\u001b[1;33m,\u001b[0m\u001b[1;34m'Não'\u001b[0m\u001b[1;33m}\u001b[0m\u001b[1;33m\u001b[0m\u001b[0m\n\u001b[1;32m---> 20\u001b[1;33m \u001b[0mdados_15\u001b[0m\u001b[1;33m.\u001b[0m\u001b[0mV0210\u001b[0m\u001b[1;33m.\u001b[0m\u001b[0mcat\u001b[0m\u001b[1;33m.\u001b[0m\u001b[0mcategories\u001b[0m \u001b[1;33m=\u001b[0m \u001b[1;33m{\u001b[0m\u001b[1;34m'Sim'\u001b[0m\u001b[1;33m}\u001b[0m\u001b[1;33m\u001b[0m\u001b[0m\n\u001b[0m\u001b[0;32m     21\u001b[0m \u001b[0mdados_15\u001b[0m\u001b[1;33m.\u001b[0m\u001b[0mV4105\u001b[0m\u001b[1;33m.\u001b[0m\u001b[0mcat\u001b[0m\u001b[1;33m.\u001b[0m\u001b[0mcategories\u001b[0m \u001b[1;33m=\u001b[0m \u001b[1;33m{\u001b[0m\u001b[1;34m'Urbana'\u001b[0m\u001b[1;33m}\u001b[0m\u001b[1;33m\u001b[0m\u001b[0m\n\u001b[0;32m     22\u001b[0m \u001b[0mdados_15\u001b[0m\u001b[1;33m.\u001b[0m\u001b[0mV02322\u001b[0m\u001b[1;33m.\u001b[0m\u001b[0mcat\u001b[0m\u001b[1;33m.\u001b[0m\u001b[0mcategories\u001b[0m \u001b[1;33m=\u001b[0m \u001b[1;33m{\u001b[0m\u001b[1;34m'Sim'\u001b[0m\u001b[1;33m,\u001b[0m\u001b[1;34m'Não'\u001b[0m\u001b[1;33m}\u001b[0m\u001b[1;33m\u001b[0m\u001b[0m\n",
      "\u001b[1;32mC:\\Users\\vitor\\Anaconda3\\lib\\site-packages\\pandas\\core\\base.py\u001b[0m in \u001b[0;36m__setattr__\u001b[1;34m(self, key, value)\u001b[0m\n\u001b[0;32m    160\u001b[0m             raise AttributeError(\"You cannot add any new attribute '{key}'\".\n\u001b[0;32m    161\u001b[0m                                  format(key=key))\n\u001b[1;32m--> 162\u001b[1;33m         \u001b[0mobject\u001b[0m\u001b[1;33m.\u001b[0m\u001b[0m__setattr__\u001b[0m\u001b[1;33m(\u001b[0m\u001b[0mself\u001b[0m\u001b[1;33m,\u001b[0m \u001b[0mkey\u001b[0m\u001b[1;33m,\u001b[0m \u001b[0mvalue\u001b[0m\u001b[1;33m)\u001b[0m\u001b[1;33m\u001b[0m\u001b[0m\n\u001b[0m\u001b[0;32m    163\u001b[0m \u001b[1;33m\u001b[0m\u001b[0m\n\u001b[0;32m    164\u001b[0m \u001b[1;33m\u001b[0m\u001b[0m\n",
      "\u001b[1;32mC:\\Users\\vitor\\Anaconda3\\lib\\site-packages\\pandas\\core\\base.py\u001b[0m in \u001b[0;36m_setter\u001b[1;34m(self, new_values)\u001b[0m\n\u001b[0;32m    198\u001b[0m \u001b[1;33m\u001b[0m\u001b[0m\n\u001b[0;32m    199\u001b[0m             \u001b[1;32mdef\u001b[0m \u001b[0m_setter\u001b[0m\u001b[1;33m(\u001b[0m\u001b[0mself\u001b[0m\u001b[1;33m,\u001b[0m \u001b[0mnew_values\u001b[0m\u001b[1;33m)\u001b[0m\u001b[1;33m:\u001b[0m\u001b[1;33m\u001b[0m\u001b[0m\n\u001b[1;32m--> 200\u001b[1;33m                 \u001b[1;32mreturn\u001b[0m \u001b[0mself\u001b[0m\u001b[1;33m.\u001b[0m\u001b[0m_delegate_property_set\u001b[0m\u001b[1;33m(\u001b[0m\u001b[0mname\u001b[0m\u001b[1;33m,\u001b[0m \u001b[0mnew_values\u001b[0m\u001b[1;33m)\u001b[0m\u001b[1;33m\u001b[0m\u001b[0m\n\u001b[0m\u001b[0;32m    201\u001b[0m \u001b[1;33m\u001b[0m\u001b[0m\n\u001b[0;32m    202\u001b[0m             \u001b[0m_getter\u001b[0m\u001b[1;33m.\u001b[0m\u001b[0m__name__\u001b[0m \u001b[1;33m=\u001b[0m \u001b[0mname\u001b[0m\u001b[1;33m\u001b[0m\u001b[0m\n",
      "\u001b[1;32mC:\\Users\\vitor\\Anaconda3\\lib\\site-packages\\pandas\\core\\categorical.py\u001b[0m in \u001b[0;36m_delegate_property_set\u001b[1;34m(self, name, new_values)\u001b[0m\n\u001b[0;32m   2073\u001b[0m \u001b[1;33m\u001b[0m\u001b[0m\n\u001b[0;32m   2074\u001b[0m     \u001b[1;32mdef\u001b[0m \u001b[0m_delegate_property_set\u001b[0m\u001b[1;33m(\u001b[0m\u001b[0mself\u001b[0m\u001b[1;33m,\u001b[0m \u001b[0mname\u001b[0m\u001b[1;33m,\u001b[0m \u001b[0mnew_values\u001b[0m\u001b[1;33m)\u001b[0m\u001b[1;33m:\u001b[0m\u001b[1;33m\u001b[0m\u001b[0m\n\u001b[1;32m-> 2075\u001b[1;33m         \u001b[1;32mreturn\u001b[0m \u001b[0msetattr\u001b[0m\u001b[1;33m(\u001b[0m\u001b[0mself\u001b[0m\u001b[1;33m.\u001b[0m\u001b[0mcategorical\u001b[0m\u001b[1;33m,\u001b[0m \u001b[0mname\u001b[0m\u001b[1;33m,\u001b[0m \u001b[0mnew_values\u001b[0m\u001b[1;33m)\u001b[0m\u001b[1;33m\u001b[0m\u001b[0m\n\u001b[0m\u001b[0;32m   2076\u001b[0m \u001b[1;33m\u001b[0m\u001b[0m\n\u001b[0;32m   2077\u001b[0m     \u001b[1;33m@\u001b[0m\u001b[0mproperty\u001b[0m\u001b[1;33m\u001b[0m\u001b[0m\n",
      "\u001b[1;32mC:\\Users\\vitor\\Anaconda3\\lib\\site-packages\\pandas\\core\\categorical.py\u001b[0m in \u001b[0;36m_set_categories\u001b[1;34m(self, categories, fastpath)\u001b[0m\n\u001b[0;32m    593\u001b[0m         if (not fastpath and self._categories is not None and\n\u001b[0;32m    594\u001b[0m                 len(categories) != len(self._categories)):\n\u001b[1;32m--> 595\u001b[1;33m             raise ValueError(\"new categories need to have the same number of \"\n\u001b[0m\u001b[0;32m    596\u001b[0m                              \"items than the old categories!\")\n\u001b[0;32m    597\u001b[0m \u001b[1;33m\u001b[0m\u001b[0m\n",
      "\u001b[1;31mValueError\u001b[0m: new categories need to have the same number of items than the old categories!"
     ]
    }
   ],
   "source": [
    "#Se usar o arquivo descompactado\n",
    "dados_2015 = pd.read_csv('DOM2015.csv',sep=',')\n",
    "\n",
    "dados_2015 = pd.DataFrame(dados_2015)\n",
    "\n",
    "dados_2015_lido = dados_2015.loc[:,['UF','V02322','V0210', 'V4105', 'V0232']]\n",
    "\n",
    "dados_2015_sem_nulo = dados_2015_lido.loc[pd.notnull(dados_2015_lido.UF) & \\\n",
    "                                          pd.notnull(dados_2015_lido.V0232) & \\\n",
    "                                          pd.notnull(dados_2015_lido.V0210) & \\\n",
    "                                          pd.notnull(dados_2015_lido.V4105) & \\\n",
    "                                          pd.notnull(dados_2015_lido.V02322)]\n",
    "\n",
    "dados_15 = dados_2015_sem_nulo.loc[(dados_2015_sem_nulo.UF == 35) & \\\n",
    "                                   (dados_2015_sem_nulo.V02322 == 2) & \\\n",
    "                                   (dados_2015_sem_nulo.V02322 == 2) & \\\n",
    "                                   (dados_2015_sem_nulo.V4105 == 1)]\n",
    "\n",
    "dados_15.loc[:,\"UF\"] = dados_15.UF.astype('category')\n",
    "dados_15.V0232 = dados_15.V0232.astype('category')\n",
    "dados_15.V0210 = dados_15.V0210.astype('category')\n",
    "dados_15.V4105 = dados_15.V4105.astype('category')\n",
    "dados_15.V02322 = dados_15.V02322.astype('category')\n",
    "\n",
    "dados_15.UF.cat.categories = {'São Paulo'}\n",
    "dados_15.V0232.cat.categories = {'Sim','Não'}\n",
    "dados_15.V0210.cat.categories = {'Sim'}\n",
    "dados_15.V4105.cat.categories = {'Urbana'}\n",
    "dados_15.V02322.cat.categories = {'Sim','Não'}\n",
    "\n",
    "dados_15 = dados_15.rename(columns = {'V02322':'Acesso Internet', 'V0210':'Terreno Próprio', 'V4105':'Região de Moradia', 'V0232':'Computador Internet'})\n",
    "\n",
    "dados_15\n",
    "#dados_15.to_csv('dados_2015_filtrado.csv')"
   ]
  },
  {
   "cell_type": "code",
   "execution_count": null,
   "metadata": {
    "collapsed": true
   },
   "outputs": [],
   "source": [
    "dados_2014 = pd.DataFrame(dados_2014)\n",
    "dados_2014_lido = dados_2014.loc[:,['UF','V02322','V0210', 'V4105', 'V0232']]\n",
    "dados_2014_sem_nulo = dados_2014_lido[pd.notnull(dados_2014_lido.UF) & \\\n",
    "                                      pd.notnull(dados_2014_lido.V0232) & \\\n",
    "                                      pd.notnull(dados_2014_lido.V0210) & \\\n",
    "                                      pd.notnull(dados_2014_lido.V4105) & \\\n",
    "                                      pd.notnull(dados_2014_lido.V02322)]\n",
    "dados_2014_sem_nulo.to_csv('dados_2014_filtrado.csv')"
   ]
  },
  {
   "cell_type": "code",
   "execution_count": null,
   "metadata": {
    "collapsed": true
   },
   "outputs": [],
   "source": [
    "dados_2013 = pd.read_csv('DOM2013.csv',sep=',')\n",
    "dados_2013 = pd.DataFrame(dados_2013)\n",
    "dados_2013_lido = dados_2015.loc[:,['UF','V02322','V0210', 'V4105', 'V0232']]\n",
    "dados_2013_sem_nulo = dados_2015_lido[pd.notnull(dados_2013_lido.UF) & \\\n",
    "                                      pd.notnull(dados_2013_lido.V0232) & \\\n",
    "                                      pd.notnull(dados_2013_lido.V0210) & \\\n",
    "                                      pd.notnull(dados_2013_lido.V4105) & \\\n",
    "                                      pd.notnull(dados_2013_lido.V02322)]\n",
    "dados_2013_sem_nulo.to_csv('dados_2013_filtrado.csv')"
   ]
  },
  {
   "cell_type": "markdown",
   "metadata": {},
   "source": [
    "___\n",
    "## Conclusão "
   ]
  },
  {
   "cell_type": "markdown",
   "metadata": {
    "collapsed": true
   },
   "source": [
    "Descreva aqui suas conclusões!"
   ]
  },
  {
   "cell_type": "code",
   "execution_count": null,
   "metadata": {
    "collapsed": true
   },
   "outputs": [],
   "source": []
  }
 ],
 "metadata": {
  "anaconda-cloud": {},
  "kernelspec": {
   "display_name": "Python 3",
   "language": "python",
   "name": "python3"
  },
  "language_info": {
   "codemirror_mode": {
    "name": "ipython",
    "version": 3
   },
   "file_extension": ".py",
   "mimetype": "text/x-python",
   "name": "python",
   "nbconvert_exporter": "python",
   "pygments_lexer": "ipython3",
   "version": "3.6.1"
  }
 },
 "nbformat": 4,
 "nbformat_minor": 1
}
